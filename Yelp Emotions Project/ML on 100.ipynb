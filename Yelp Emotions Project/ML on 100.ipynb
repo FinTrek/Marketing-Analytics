{
 "cells": [
  {
   "cell_type": "code",
   "execution_count": 1,
   "metadata": {},
   "outputs": [
    {
     "data": {
      "text/html": [
       "<div>\n",
       "<style scoped>\n",
       "    .dataframe tbody tr th:only-of-type {\n",
       "        vertical-align: middle;\n",
       "    }\n",
       "\n",
       "    .dataframe tbody tr th {\n",
       "        vertical-align: top;\n",
       "    }\n",
       "\n",
       "    .dataframe thead th {\n",
       "        text-align: right;\n",
       "    }\n",
       "</style>\n",
       "<table border=\"1\" class=\"dataframe\">\n",
       "  <thead>\n",
       "    <tr style=\"text-align: right;\">\n",
       "      <th></th>\n",
       "      <th>Unnamed: 0</th>\n",
       "      <th>business_id</th>\n",
       "      <th>cool</th>\n",
       "      <th>date</th>\n",
       "      <th>funny</th>\n",
       "      <th>review_id</th>\n",
       "      <th>stars</th>\n",
       "      <th>useful</th>\n",
       "      <th>user_id</th>\n",
       "      <th>fear_score</th>\n",
       "      <th>...</th>\n",
       "      <th>surprise_score</th>\n",
       "      <th>disgust_score</th>\n",
       "      <th>fear_normalized</th>\n",
       "      <th>happy_normalized</th>\n",
       "      <th>sad_normalized</th>\n",
       "      <th>anger_normalized</th>\n",
       "      <th>neutral_normalized</th>\n",
       "      <th>surprise_normalized</th>\n",
       "      <th>disgust_normalized</th>\n",
       "      <th>review_length</th>\n",
       "    </tr>\n",
       "  </thead>\n",
       "  <tbody>\n",
       "    <tr>\n",
       "      <th>0</th>\n",
       "      <td>84442</td>\n",
       "      <td>XH2TZmZt6gzHHpjqk8C6pg</td>\n",
       "      <td>1</td>\n",
       "      <td>2009-05-26 13:42:02</td>\n",
       "      <td>3</td>\n",
       "      <td>rtQJU6GHxnxsXKBspKzWaA</td>\n",
       "      <td>5</td>\n",
       "      <td>6</td>\n",
       "      <td>lJzgOpVS1pmb2UW7j2GkDg</td>\n",
       "      <td>2.405523</td>\n",
       "      <td>...</td>\n",
       "      <td>2.925512</td>\n",
       "      <td>1.423982</td>\n",
       "      <td>0.154263</td>\n",
       "      <td>0.194019</td>\n",
       "      <td>0.164339</td>\n",
       "      <td>0.143937</td>\n",
       "      <td>0.064513</td>\n",
       "      <td>0.187610</td>\n",
       "      <td>0.091318</td>\n",
       "      <td>307</td>\n",
       "    </tr>\n",
       "    <tr>\n",
       "      <th>1</th>\n",
       "      <td>75795</td>\n",
       "      <td>yNVcnSaMSrTmjJBMrHTy9w</td>\n",
       "      <td>2</td>\n",
       "      <td>2012-06-01 18:22:23</td>\n",
       "      <td>1</td>\n",
       "      <td>wU-awV0uGkZdjnIFsgoTQA</td>\n",
       "      <td>4</td>\n",
       "      <td>5</td>\n",
       "      <td>8iqGB11mHwCTLOOHkqnqmQ</td>\n",
       "      <td>0.532827</td>\n",
       "      <td>...</td>\n",
       "      <td>0.549298</td>\n",
       "      <td>0.138426</td>\n",
       "      <td>0.200740</td>\n",
       "      <td>0.193448</td>\n",
       "      <td>0.136829</td>\n",
       "      <td>0.152236</td>\n",
       "      <td>0.057650</td>\n",
       "      <td>0.206945</td>\n",
       "      <td>0.052151</td>\n",
       "      <td>88</td>\n",
       "    </tr>\n",
       "    <tr>\n",
       "      <th>2</th>\n",
       "      <td>42057</td>\n",
       "      <td>zk3AimWhuz0EZsNgIddKdg</td>\n",
       "      <td>0</td>\n",
       "      <td>2018-05-19 16:05:50</td>\n",
       "      <td>0</td>\n",
       "      <td>WBE8cGKMIJggpXRA4KTaog</td>\n",
       "      <td>2</td>\n",
       "      <td>0</td>\n",
       "      <td>qFk5mtbEqpRgg2v2HRoryQ</td>\n",
       "      <td>0.365300</td>\n",
       "      <td>...</td>\n",
       "      <td>0.293360</td>\n",
       "      <td>0.315442</td>\n",
       "      <td>0.132739</td>\n",
       "      <td>0.322269</td>\n",
       "      <td>0.110795</td>\n",
       "      <td>0.165409</td>\n",
       "      <td>0.047569</td>\n",
       "      <td>0.106598</td>\n",
       "      <td>0.114622</td>\n",
       "      <td>101</td>\n",
       "    </tr>\n",
       "    <tr>\n",
       "      <th>3</th>\n",
       "      <td>25891</td>\n",
       "      <td>MN0Pd66285k2k9lkpEtptA</td>\n",
       "      <td>0</td>\n",
       "      <td>2017-03-15 20:01:16</td>\n",
       "      <td>0</td>\n",
       "      <td>_NcurWksF9tSwXK9Mq3GIA</td>\n",
       "      <td>1</td>\n",
       "      <td>0</td>\n",
       "      <td>D4xs1lDiug7hU_NfPnJxpQ</td>\n",
       "      <td>1.301386</td>\n",
       "      <td>...</td>\n",
       "      <td>1.360330</td>\n",
       "      <td>0.515131</td>\n",
       "      <td>0.176703</td>\n",
       "      <td>0.162737</td>\n",
       "      <td>0.137485</td>\n",
       "      <td>0.207375</td>\n",
       "      <td>0.061050</td>\n",
       "      <td>0.184706</td>\n",
       "      <td>0.069945</td>\n",
       "      <td>195</td>\n",
       "    </tr>\n",
       "    <tr>\n",
       "      <th>4</th>\n",
       "      <td>51127</td>\n",
       "      <td>N9oZ9GDPf65x6zv7fsKJvA</td>\n",
       "      <td>0</td>\n",
       "      <td>2012-11-07 23:02:55</td>\n",
       "      <td>1</td>\n",
       "      <td>bQ1zd9OOjNwMJexVp2jZSA</td>\n",
       "      <td>3</td>\n",
       "      <td>2</td>\n",
       "      <td>cuVrNmt7_WtBn1uz5L_p0g</td>\n",
       "      <td>0.148931</td>\n",
       "      <td>...</td>\n",
       "      <td>0.425446</td>\n",
       "      <td>0.080027</td>\n",
       "      <td>0.104764</td>\n",
       "      <td>0.193086</td>\n",
       "      <td>0.117864</td>\n",
       "      <td>0.185288</td>\n",
       "      <td>0.043428</td>\n",
       "      <td>0.299275</td>\n",
       "      <td>0.056294</td>\n",
       "      <td>27</td>\n",
       "    </tr>\n",
       "  </tbody>\n",
       "</table>\n",
       "<p>5 rows × 24 columns</p>\n",
       "</div>"
      ],
      "text/plain": [
       "   Unnamed: 0             business_id  cool                 date  funny  \\\n",
       "0       84442  XH2TZmZt6gzHHpjqk8C6pg     1  2009-05-26 13:42:02      3   \n",
       "1       75795  yNVcnSaMSrTmjJBMrHTy9w     2  2012-06-01 18:22:23      1   \n",
       "2       42057  zk3AimWhuz0EZsNgIddKdg     0  2018-05-19 16:05:50      0   \n",
       "3       25891  MN0Pd66285k2k9lkpEtptA     0  2017-03-15 20:01:16      0   \n",
       "4       51127  N9oZ9GDPf65x6zv7fsKJvA     0  2012-11-07 23:02:55      1   \n",
       "\n",
       "                review_id  stars  useful                 user_id  fear_score  \\\n",
       "0  rtQJU6GHxnxsXKBspKzWaA      5       6  lJzgOpVS1pmb2UW7j2GkDg    2.405523   \n",
       "1  wU-awV0uGkZdjnIFsgoTQA      4       5  8iqGB11mHwCTLOOHkqnqmQ    0.532827   \n",
       "2  WBE8cGKMIJggpXRA4KTaog      2       0  qFk5mtbEqpRgg2v2HRoryQ    0.365300   \n",
       "3  _NcurWksF9tSwXK9Mq3GIA      1       0  D4xs1lDiug7hU_NfPnJxpQ    1.301386   \n",
       "4  bQ1zd9OOjNwMJexVp2jZSA      3       2  cuVrNmt7_WtBn1uz5L_p0g    0.148931   \n",
       "\n",
       "   ...  surprise_score  disgust_score  fear_normalized  happy_normalized  \\\n",
       "0  ...        2.925512       1.423982         0.154263          0.194019   \n",
       "1  ...        0.549298       0.138426         0.200740          0.193448   \n",
       "2  ...        0.293360       0.315442         0.132739          0.322269   \n",
       "3  ...        1.360330       0.515131         0.176703          0.162737   \n",
       "4  ...        0.425446       0.080027         0.104764          0.193086   \n",
       "\n",
       "   sad_normalized  anger_normalized  neutral_normalized  surprise_normalized  \\\n",
       "0        0.164339          0.143937            0.064513             0.187610   \n",
       "1        0.136829          0.152236            0.057650             0.206945   \n",
       "2        0.110795          0.165409            0.047569             0.106598   \n",
       "3        0.137485          0.207375            0.061050             0.184706   \n",
       "4        0.117864          0.185288            0.043428             0.299275   \n",
       "\n",
       "   disgust_normalized  review_length  \n",
       "0            0.091318            307  \n",
       "1            0.052151             88  \n",
       "2            0.114622            101  \n",
       "3            0.069945            195  \n",
       "4            0.056294             27  \n",
       "\n",
       "[5 rows x 24 columns]"
      ]
     },
     "execution_count": 1,
     "metadata": {},
     "output_type": "execute_result"
    }
   ],
   "source": [
    "import pandas as pd\n",
    "from sklearn.model_selection import train_test_split\n",
    "from sklearn import linear_model\n",
    "from sklearn.metrics import mean_absolute_error\n",
    "import numpy as np\n",
    "\n",
    "df = pd.read_csv(\"reviews with normalized scores and lengths no stopwords.csv\")\n",
    "df.head()"
   ]
  },
  {
   "cell_type": "code",
   "execution_count": 2,
   "metadata": {},
   "outputs": [
    {
     "name": "stdout",
     "output_type": "stream",
     "text": [
      "                            OLS Regression Results                            \n",
      "==============================================================================\n",
      "Dep. Variable:                  stars   R-squared:                       0.285\n",
      "Model:                            OLS   Adj. R-squared:                  0.217\n",
      "Method:                 Least Squares   F-statistic:                     4.189\n",
      "Date:                Wed, 06 Nov 2019   Prob (F-statistic):            0.00132\n",
      "Time:                        14:52:25   Log-Likelihood:                -111.48\n",
      "No. Observations:                  70   AIC:                             237.0\n",
      "Df Residuals:                      63   BIC:                             252.7\n",
      "Df Model:                           6                                         \n",
      "Covariance Type:            nonrobust                                         \n",
      "=======================================================================================\n",
      "                          coef    std err          t      P>|t|      [0.025      0.975]\n",
      "---------------------------------------------------------------------------------------\n",
      "fear_normalized         1.7057      4.288      0.398      0.692      -6.863      10.274\n",
      "happy_normalized        5.7180      1.683      3.398      0.001       2.355       9.081\n",
      "sad_normalized          6.7085      3.364      1.994      0.050      -0.014      13.431\n",
      "anger_normalized       -3.7656      2.623     -1.436      0.156      -9.006       1.475\n",
      "neutral_normalized     38.5578     10.170      3.791      0.000      18.235      58.881\n",
      "surprise_normalized     2.3024      2.432      0.947      0.347      -2.558       7.163\n",
      "disgust_normalized     -8.8230      5.926     -1.489      0.142     -20.665       3.019\n",
      "==============================================================================\n",
      "Omnibus:                        6.676   Durbin-Watson:                   1.983\n",
      "Prob(Omnibus):                  0.036   Jarque-Bera (JB):                6.582\n",
      "Skew:                          -0.751   Prob(JB):                       0.0372\n",
      "Kurtosis:                       3.000   Cond. No.                         29.3\n",
      "==============================================================================\n",
      "\n",
      "Warnings:\n",
      "[1] Standard Errors assume that the covariance matrix of the errors is correctly specified.\n"
     ]
    }
   ],
   "source": [
    "import statsmodels.api as sm\n",
    "from scipy import stats\n",
    "\n",
    "X = pd.DataFrame(df, columns = [\"fear_normalized\", \"happy_normalized\", \"sad_normalized\", \"anger_normalized\",\\\n",
    "                                \"neutral_normalized\", \"surprise_normalized\",\"disgust_normalized\"])\n",
    "Y = df['stars']\n",
    "\n",
    "X_train, X_test, Y_train, Y_test = train_test_split(X,Y,test_size = 0.30, random_state=11)\n",
    "\n",
    "est = sm.OLS(Y_train, X_train)\n",
    "est2 = est.fit()\n",
    "print(est2.summary())"
   ]
  },
  {
   "cell_type": "code",
   "execution_count": 3,
   "metadata": {},
   "outputs": [
    {
     "name": "stderr",
     "output_type": "stream",
     "text": [
      "C:\\Users\\Thomas\\Anaconda2\\lib\\site-packages\\sklearn\\linear_model\\stochastic_gradient.py:166: FutureWarning: max_iter and tol parameters have been added in SGDClassifier in 0.19. If both are left unset, they default to max_iter=5 and tol=None. If tol is not None, max_iter defaults to max_iter=1000. From 0.21, default max_iter will be 1000, and default tol will be 1e-3.\n",
      "  FutureWarning)\n"
     ]
    },
    {
     "data": {
      "text/plain": [
       "array([3, 3, 3, 3, 3, 3, 3, 3, 3, 3, 3, 3, 3, 3, 3, 3, 3, 3, 3, 3, 3, 3,\n",
       "       3, 3, 3, 3, 3, 3, 3, 3, 3, 3, 3, 3, 3, 3, 3, 3, 3, 3, 3, 3, 3, 3,\n",
       "       3, 3, 3, 3, 3, 3, 3, 3, 3, 3, 3, 3, 3, 3, 3, 3, 3, 3, 3, 3, 3, 3,\n",
       "       3, 3, 3, 3], dtype=int64)"
      ]
     },
     "execution_count": 3,
     "metadata": {},
     "output_type": "execute_result"
    }
   ],
   "source": [
    "from sklearn.linear_model import SGDClassifier\n",
    "\n",
    "sgd_clf = SGDClassifier(random_state = 42)\n",
    "sgd_clf.fit(X_train, Y_train)\n",
    "sgd_clf.predict(X_train)"
   ]
  },
  {
   "cell_type": "code",
   "execution_count": 4,
   "metadata": {},
   "outputs": [
    {
     "data": {
      "text/plain": [
       "array([5, 2, 4, 5, 3, 5, 5, 4, 1, 5, 5, 4, 3, 1, 1, 5, 3, 5, 1, 3, 4, 5,\n",
       "       4, 4, 5, 2, 4, 5, 2, 3, 1, 5, 5, 3, 5, 3, 4, 1, 4, 5, 5, 3, 5, 5,\n",
       "       5, 4, 5, 5, 1, 5, 3, 4, 5, 1, 3, 5, 5, 5, 3, 5, 5, 5, 1, 3, 5, 5,\n",
       "       5, 5, 5, 5], dtype=int64)"
      ]
     },
     "execution_count": 4,
     "metadata": {},
     "output_type": "execute_result"
    }
   ],
   "source": [
    "Y_train.ravel()"
   ]
  },
  {
   "cell_type": "code",
   "execution_count": 5,
   "metadata": {},
   "outputs": [
    {
     "data": {
      "text/plain": [
       "array([0.125     , 0.5       , 0.13636364])"
      ]
     },
     "execution_count": 5,
     "metadata": {},
     "output_type": "execute_result"
    }
   ],
   "source": [
    "from sklearn.model_selection import cross_val_score\n",
    "cross_val_score(sgd_clf, X_train, Y_train, cv = 3, scoring = \"accuracy\")"
   ]
  },
  {
   "cell_type": "code",
   "execution_count": 6,
   "metadata": {},
   "outputs": [
    {
     "data": {
      "text/plain": [
       "<bound method BaseEstimator.get_params of SGDClassifier(alpha=0.0001, average=False, class_weight=None,\n",
       "              early_stopping=False, epsilon=0.1, eta0=0.0, fit_intercept=True,\n",
       "              l1_ratio=0.15, learning_rate='optimal', loss='hinge',\n",
       "              max_iter=1000, n_iter_no_change=5, n_jobs=None, penalty='l2',\n",
       "              power_t=0.5, random_state=42, shuffle=True, tol=0.001,\n",
       "              validation_fraction=0.1, verbose=0, warm_start=False)>"
      ]
     },
     "execution_count": 6,
     "metadata": {},
     "output_type": "execute_result"
    }
   ],
   "source": [
    "sgd_clf.get_params"
   ]
  },
  {
   "cell_type": "code",
   "execution_count": 7,
   "metadata": {},
   "outputs": [
    {
     "data": {
      "text/plain": [
       "array([1, 2, 3, 4, 5], dtype=int64)"
      ]
     },
     "execution_count": 7,
     "metadata": {},
     "output_type": "execute_result"
    }
   ],
   "source": [
    "sgd_clf.classes_"
   ]
  },
  {
   "cell_type": "code",
   "execution_count": 6,
   "metadata": {},
   "outputs": [
    {
     "name": "stderr",
     "output_type": "stream",
     "text": [
      "C:\\Users\\Thomas\\Anaconda2\\lib\\site-packages\\sklearn\\discriminant_analysis.py:388: UserWarning: Variables are collinear.\n",
      "  warnings.warn(\"Variables are collinear.\")\n"
     ]
    },
    {
     "data": {
      "text/plain": [
       "array([5, 5, 5, 5, 5, 3, 5, 5, 1, 5, 5, 5, 5, 1, 5, 5, 3, 5, 5, 5, 3, 5,\n",
       "       4, 5, 5, 2, 3, 5, 3, 3, 5, 5, 3, 3, 5, 5, 5, 4, 3, 5, 5, 3, 5, 5,\n",
       "       5, 5, 5, 5, 1, 4, 4, 5, 5, 1, 5, 1, 5, 5, 5, 5, 5, 5, 1, 5, 5, 5,\n",
       "       5, 5, 5, 5], dtype=int64)"
      ]
     },
     "execution_count": 6,
     "metadata": {},
     "output_type": "execute_result"
    }
   ],
   "source": [
    "from sklearn.discriminant_analysis import LinearDiscriminantAnalysis\n",
    "lda_clf = LinearDiscriminantAnalysis()\n",
    "lda_clf.fit(X_train, Y_train)\n",
    "lda_clf.predict(X_train)"
   ]
  },
  {
   "cell_type": "code",
   "execution_count": 7,
   "metadata": {},
   "outputs": [
    {
     "data": {
      "text/plain": [
       "array([5, 2, 4, 5, 3, 5, 5, 4, 1, 5, 5, 4, 3, 1, 1, 5, 3, 5, 1, 3, 4, 5,\n",
       "       4, 4, 5, 2, 4, 5, 2, 3, 1, 5, 5, 3, 5, 3, 4, 1, 4, 5, 5, 3, 5, 5,\n",
       "       5, 4, 5, 5, 1, 5, 3, 4, 5, 1, 3, 5, 5, 5, 3, 5, 5, 5, 1, 3, 5, 5,\n",
       "       5, 5, 5, 5], dtype=int64)"
      ]
     },
     "execution_count": 7,
     "metadata": {},
     "output_type": "execute_result"
    }
   ],
   "source": [
    "Y_train.ravel()"
   ]
  },
  {
   "cell_type": "code",
   "execution_count": 8,
   "metadata": {},
   "outputs": [
    {
     "name": "stderr",
     "output_type": "stream",
     "text": [
      "C:\\Users\\Thomas\\Anaconda2\\lib\\site-packages\\sklearn\\discriminant_analysis.py:388: UserWarning: Variables are collinear.\n",
      "  warnings.warn(\"Variables are collinear.\")\n",
      "C:\\Users\\Thomas\\Anaconda2\\lib\\site-packages\\sklearn\\discriminant_analysis.py:388: UserWarning: Variables are collinear.\n",
      "  warnings.warn(\"Variables are collinear.\")\n",
      "C:\\Users\\Thomas\\Anaconda2\\lib\\site-packages\\sklearn\\discriminant_analysis.py:388: UserWarning: Variables are collinear.\n",
      "  warnings.warn(\"Variables are collinear.\")\n"
     ]
    },
    {
     "data": {
      "text/plain": [
       "array([0.375, 0.625, 0.5  ])"
      ]
     },
     "execution_count": 8,
     "metadata": {},
     "output_type": "execute_result"
    }
   ],
   "source": [
    "cross_val_score(lda_clf, X_train, Y_train, cv = 3, scoring = \"accuracy\")"
   ]
  },
  {
   "cell_type": "code",
   "execution_count": 9,
   "metadata": {},
   "outputs": [
    {
     "data": {
      "text/plain": [
       "[Text(0.5,0,'fear_normalized'),\n",
       " Text(1.5,0,'happy_normalized'),\n",
       " Text(2.5,0,'sad_normalized'),\n",
       " Text(3.5,0,'anger_normalized'),\n",
       " Text(4.5,0,'neutral_normalized'),\n",
       " Text(5.5,0,'surprise_normalized'),\n",
       " Text(6.5,0,'disgust_normalized')]"
      ]
     },
     "execution_count": 9,
     "metadata": {},
     "output_type": "execute_result"
    },
    {
     "data": {
      "image/png": "[encoded data removed]",
      "text/plain": [
       "<Figure size 432x288 with 2 Axes>"
      ]
     },
     "metadata": {
      "needs_background": "light"
     },
     "output_type": "display_data"
    }
   ],
   "source": [
    "import seaborn as sns\n",
    "corr = X.corr()\n",
    "ax = sns.heatmap(\n",
    "    corr, \n",
    "    vmin=-1, vmax=1, center=0,\n",
    "    cmap=sns.diverging_palette(20, 220, n=200),\n",
    "    square=True\n",
    ")\n",
    "ax.set_xticklabels(\n",
    "    ax.get_xticklabels(),\n",
    "    rotation=45,\n",
    "    horizontalalignment='right'\n",
    ")"
   ]
  },
  {
   "cell_type": "code",
   "execution_count": 12,
   "metadata": {},
   "outputs": [
    {
     "data": {
      "image/png": "[encoded data removed]",
      "text/plain": [
       "<Figure size 1440x1080 with 9 Axes>"
      ]
     },
     "metadata": {
      "needs_background": "light"
     },
     "output_type": "display_data"
    }
   ],
   "source": [
    "import matplotlib.pyplot as plt\n",
    "X.hist(bins = 50, figsize = (20, 15))\n",
    "plt.show()"
   ]
  },
  {
   "cell_type": "code",
   "execution_count": 13,
   "metadata": {},
   "outputs": [
    {
     "data": {
      "image/png": "[encoded data removed]",
      "text/plain": [
       "<Figure size 432x288 with 1 Axes>"
      ]
     },
     "metadata": {
      "needs_background": "light"
     },
     "output_type": "display_data"
    }
   ],
   "source": [
    "plt.scatter(X[\"happy_normalized\"], X[\"surprise_normalized\"])\n",
    "plt.show()"
   ]
  },
  {
   "cell_type": "code",
   "execution_count": 10,
   "metadata": {},
   "outputs": [],
   "source": [
    "from sklearn.ensemble import RandomForestClassifier\n",
    "from sklearn.ensemble import VotingClassifier\n",
    "from sklearn.linear_model import LogisticRegression\n",
    "from sklearn.svm import SVC"
   ]
  },
  {
   "cell_type": "code",
   "execution_count": 11,
   "metadata": {},
   "outputs": [
    {
     "name": "stderr",
     "output_type": "stream",
     "text": [
      "C:\\Users\\Thomas\\Anaconda2\\lib\\site-packages\\sklearn\\linear_model\\logistic.py:433: FutureWarning: Default solver will be changed to 'lbfgs' in 0.22. Specify a solver to silence this warning.\n",
      "  FutureWarning)\n",
      "C:\\Users\\Thomas\\Anaconda2\\lib\\site-packages\\sklearn\\linear_model\\logistic.py:460: FutureWarning: Default multi_class will be changed to 'auto' in 0.22. Specify the multi_class option to silence this warning.\n",
      "  \"this warning.\", FutureWarning)\n",
      "C:\\Users\\Thomas\\Anaconda2\\lib\\site-packages\\sklearn\\ensemble\\forest.py:246: FutureWarning: The default value of n_estimators will change from 10 in version 0.20 to 100 in 0.22.\n",
      "  \"10 in version 0.20 to 100 in 0.22.\", FutureWarning)\n",
      "C:\\Users\\Thomas\\Anaconda2\\lib\\site-packages\\sklearn\\svm\\base.py:196: FutureWarning: The default value of gamma will change from 'auto' to 'scale' in version 0.22 to account better for unscaled features. Set gamma explicitly to 'auto' or 'scale' to avoid this warning.\n",
      "  \"avoid this warning.\", FutureWarning)\n"
     ]
    },
    {
     "name": "stdout",
     "output_type": "stream",
     "text": [
      "('LogisticRegression', 0.43333333333333335)\n",
      "('RandomForestClassifier', 0.26666666666666666)\n",
      "('SVC', 0.43333333333333335)\n",
      "('VotingClassifier', 0.43333333333333335)\n"
     ]
    }
   ],
   "source": [
    "log_clf = LogisticRegression()\n",
    "rnd_clf = RandomForestClassifier()\n",
    "svm_clf = SVC(probability=True)\n",
    "\n",
    "voting_clf = VotingClassifier(\n",
    "    estimators = [(\"lr\", log_clf), (\"rf\", rnd_clf), (\"svc\", svm_clf)],\n",
    "    voting = \"soft\")\n",
    "voting_clf.fit(X_train, Y_train)\n",
    "\n",
    "from sklearn.metrics import accuracy_score\n",
    "for clf in (log_clf, rnd_clf, svm_clf, voting_clf):\n",
    "    clf.fit(X_train, Y_train)\n",
    "    y_pred = clf.predict(X_test)\n",
    "    print(clf.__class__.__name__, accuracy_score(Y_test, y_pred))"
   ]
  },
  {
   "cell_type": "code",
   "execution_count": 12,
   "metadata": {},
   "outputs": [
    {
     "name": "stdout",
     "output_type": "stream",
     "text": [
      "('LogisticRegression', 0.43333333333333335)\n",
      "('RandomForestClassifier', 0.3)\n",
      "('SVC', 0.43333333333333335)\n",
      "('VotingClassifier', 0.43333333333333335)\n"
     ]
    }
   ],
   "source": [
    "log_clf = LogisticRegression()\n",
    "rnd_clf = RandomForestClassifier()\n",
    "svm_clf = SVC()\n",
    "\n",
    "voting_clf = VotingClassifier(\n",
    "    estimators = [(\"lr\", log_clf), (\"rf\", rnd_clf), (\"svc\", svm_clf)],\n",
    "    voting = \"hard\")\n",
    "voting_clf.fit(X_train, Y_train)\n",
    "\n",
    "from sklearn.metrics import accuracy_score\n",
    "for clf in (log_clf, rnd_clf, svm_clf, voting_clf):\n",
    "    clf.fit(X_train, Y_train)\n",
    "    y_pred = clf.predict(X_test)\n",
    "    print(clf.__class__.__name__, accuracy_score(Y_test, y_pred))"
   ]
  },
  {
   "cell_type": "code",
   "execution_count": 13,
   "metadata": {},
   "outputs": [
    {
     "name": "stdout",
     "output_type": "stream",
     "text": [
      "Fitting 3 folds for each of 16 candidates, totalling 48 fits\n"
     ]
    },
    {
     "name": "stderr",
     "output_type": "stream",
     "text": [
      "[Parallel(n_jobs=-1)]: Using backend LokyBackend with 8 concurrent workers.\n",
      "[Parallel(n_jobs=-1)]: Done  16 tasks      | elapsed:   18.7s\n",
      "[Parallel(n_jobs=-1)]: Done  48 out of  48 | elapsed:   19.1s finished\n",
      "C:\\Users\\Thomas\\Anaconda2\\lib\\site-packages\\sklearn\\model_selection\\_search.py:841: DeprecationWarning: The default of the `iid` parameter will change from True to False in version 0.22 and will be removed in 0.24. This will change numeric results when test-set sizes are unequal.\n",
      "  DeprecationWarning)\n",
      "C:\\Users\\Thomas\\Anaconda2\\lib\\site-packages\\sklearn\\discriminant_analysis.py:388: UserWarning: Variables are collinear.\n",
      "  warnings.warn(\"Variables are collinear.\")\n"
     ]
    },
    {
     "data": {
      "text/plain": [
       "{'solver': 'svd', 'tol': 1e-08}"
      ]
     },
     "execution_count": 13,
     "metadata": {},
     "output_type": "execute_result"
    }
   ],
   "source": [
    "from sklearn.model_selection import GridSearchCV\n",
    "\n",
    "param_grid = [{\"solver\": [\"svd\", \"lsqr\"], \"tol\": [0, .00000001, .0000001, .00001, .0001, .001, .01, .1]}]\n",
    "\n",
    "grid_search = GridSearchCV(lda_clf, param_grid, cv = 3, verbose=3, n_jobs=-1)\n",
    "\n",
    "grid_search.fit(X_train, Y_train)\n",
    "\n",
    "grid_search.best_params_"
   ]
  },
  {
   "cell_type": "code",
   "execution_count": 14,
   "metadata": {},
   "outputs": [
    {
     "name": "stderr",
     "output_type": "stream",
     "text": [
      "C:\\Users\\Thomas\\Anaconda2\\lib\\site-packages\\sklearn\\discriminant_analysis.py:388: UserWarning: Variables are collinear.\n",
      "  warnings.warn(\"Variables are collinear.\")\n",
      "C:\\Users\\Thomas\\Anaconda2\\lib\\site-packages\\sklearn\\discriminant_analysis.py:388: UserWarning: Variables are collinear.\n",
      "  warnings.warn(\"Variables are collinear.\")\n",
      "C:\\Users\\Thomas\\Anaconda2\\lib\\site-packages\\sklearn\\discriminant_analysis.py:388: UserWarning: Variables are collinear.\n",
      "  warnings.warn(\"Variables are collinear.\")\n",
      "C:\\Users\\Thomas\\Anaconda2\\lib\\site-packages\\sklearn\\discriminant_analysis.py:388: UserWarning: Variables are collinear.\n",
      "  warnings.warn(\"Variables are collinear.\")\n"
     ]
    },
    {
     "data": {
      "text/plain": [
       "0.5"
      ]
     },
     "execution_count": 14,
     "metadata": {},
     "output_type": "execute_result"
    }
   ],
   "source": [
    "lda_clf = LinearDiscriminantAnalysis(solver=\"svd\", tol=.00000001)\n",
    "lda_clf.fit(X_train, Y_train)\n",
    "np.mean(cross_val_score(lda_clf, X_train, Y_train, cv = 3, scoring = \"accuracy\"))"
   ]
  },
  {
   "cell_type": "code",
   "execution_count": 15,
   "metadata": {},
   "outputs": [
    {
     "name": "stderr",
     "output_type": "stream",
     "text": [
      "C:\\Users\\Thomas\\Anaconda2\\lib\\site-packages\\sklearn\\discriminant_analysis.py:388: UserWarning: Variables are collinear.\n",
      "  warnings.warn(\"Variables are collinear.\")\n"
     ]
    },
    {
     "data": {
      "image/png": "[encoded data removed]",
      "text/plain": [
       "<Figure size 432x288 with 1 Axes>"
      ]
     },
     "metadata": {
      "needs_background": "light"
     },
     "output_type": "display_data"
    }
   ],
   "source": [
    "import matplotlib.pyplot as plt\n",
    "\n",
    "target_names = sgd_clf.classes_\n",
    "\n",
    "colors = ['red', 'darkorange', \"magenta\",  \"green\", \"blue\"]\n",
    "lw = 2\n",
    "\n",
    "lda = LinearDiscriminantAnalysis(n_components=2)\n",
    "X_r2 = lda.fit(X, Y).transform(X)\n",
    "\n",
    "plt.figure()\n",
    "for color, i, target_name in zip(colors, [0, 1, 2, 3, 4], target_names):\n",
    "    plt.scatter(X_r2[Y == i, 0], X_r2[Y == i, 1], alpha=.8, color=color,\n",
    "                label=target_name)\n",
    "plt.legend(loc='best', shadow=False, scatterpoints=1)\n",
    "plt.title('LDA of emotions dataset')\n",
    "\n",
    "plt.show()"
   ]
  },
  {
   "cell_type": "code",
   "execution_count": null,
   "metadata": {},
   "outputs": [],
   "source": []
  }
 ],
 "metadata": {
  "kernelspec": {
   "display_name": "Python 2",
   "language": "python",
   "name": "python2"
  },
  "language_info": {
   "codemirror_mode": {
    "name": "ipython",
    "version": 2
   },
   "file_extension": ".py",
   "mimetype": "text/x-python",
   "name": "python",
   "nbconvert_exporter": "python",
   "pygments_lexer": "ipython2",
   "version": "2.7.16"
  }
 },
 "nbformat": 4,
 "nbformat_minor": 2
}
