{
 "cells": [
  {
   "cell_type": "code",
   "execution_count": 1,
   "metadata": {},
   "outputs": [
    {
     "data": {
      "text/html": [
       "<div>\n",
       "<style scoped>\n",
       "    .dataframe tbody tr th:only-of-type {\n",
       "        vertical-align: middle;\n",
       "    }\n",
       "\n",
       "    .dataframe tbody tr th {\n",
       "        vertical-align: top;\n",
       "    }\n",
       "\n",
       "    .dataframe thead th {\n",
       "        text-align: right;\n",
       "    }\n",
       "</style>\n",
       "<table border=\"1\" class=\"dataframe\">\n",
       "  <thead>\n",
       "    <tr style=\"text-align: right;\">\n",
       "      <th></th>\n",
       "      <th>Unnamed: 0</th>\n",
       "      <th>business_id</th>\n",
       "      <th>cool</th>\n",
       "      <th>date</th>\n",
       "      <th>funny</th>\n",
       "      <th>review_id</th>\n",
       "      <th>stars</th>\n",
       "      <th>text</th>\n",
       "      <th>useful</th>\n",
       "      <th>user_id</th>\n",
       "      <th>text_list</th>\n",
       "      <th>tokens</th>\n",
       "      <th>lemmatized</th>\n",
       "      <th>processed</th>\n",
       "      <th>bag_vector</th>\n",
       "    </tr>\n",
       "  </thead>\n",
       "  <tbody>\n",
       "    <tr>\n",
       "      <th>0</th>\n",
       "      <td>29369</td>\n",
       "      <td>kPR47uxGqmQNIQkIZr2_Tg</td>\n",
       "      <td>0</td>\n",
       "      <td>2016-06-12 04:28:37</td>\n",
       "      <td>0</td>\n",
       "      <td>kJa4M0WsQaGwoMDSP0c-hw</td>\n",
       "      <td>5</td>\n",
       "      <td>Friendly staff and generous portions of great ...</td>\n",
       "      <td>1</td>\n",
       "      <td>sizanx4RIwRC3BfhQv8KOg</td>\n",
       "      <td>['Friendly', 'staff', 'and', 'generous', 'port...</td>\n",
       "      <td>{'generous', 'staff', 'and', 'food', '!', 'u',...</td>\n",
       "      <td>{'generous', 'food', 'staff', '!', 'and', 'roc...</td>\n",
       "      <td>['generous', 'food', 'staff', 'rock', 'u', 'fr...</td>\n",
       "      <td>[0, 0, 0, 0, 0, 0, 0, 0, 0, 0, 0, 0, 0, 0, 0, ...</td>\n",
       "    </tr>\n",
       "    <tr>\n",
       "      <th>1</th>\n",
       "      <td>80459</td>\n",
       "      <td>qHQPvp6pZ75fB63kOKUPqg</td>\n",
       "      <td>0</td>\n",
       "      <td>2014-08-13 19:10:43</td>\n",
       "      <td>1</td>\n",
       "      <td>8qst2v9HE8tV7B3IFvtSIA</td>\n",
       "      <td>5</td>\n",
       "      <td>Job well done!! Thank you Rick for making our ...</td>\n",
       "      <td>2</td>\n",
       "      <td>DXP3K7wG_nu9jYPzQ8xVFA</td>\n",
       "      <td>['Job', 'well', 'done', '!', '!', 'Thank', 'yo...</td>\n",
       "      <td>{'the', 'for', 'and', 'look', 'a', 'our', '.',...</td>\n",
       "      <td>{'the', 'for', 'and', 'look', 'a', 'our', '.',...</td>\n",
       "      <td>['look', 'yearly', 'carpet', 'sure', 'thank', ...</td>\n",
       "      <td>[0, 0, 0, 0, 0, 0, 0, 0, 0, 0, 0, 0, 0, 0, 0, ...</td>\n",
       "    </tr>\n",
       "    <tr>\n",
       "      <th>2</th>\n",
       "      <td>21659</td>\n",
       "      <td>vhIJ91MDgUuk4Cr9Kpj1Nw</td>\n",
       "      <td>0</td>\n",
       "      <td>2012-04-29 10:58:50</td>\n",
       "      <td>0</td>\n",
       "      <td>DYAIyC476YkouqJgXuUv_A</td>\n",
       "      <td>4</td>\n",
       "      <td>I'm a big fan of Jimmy John's. This location i...</td>\n",
       "      <td>1</td>\n",
       "      <td>OTRxfMCtfrbUemIigxCaOg</td>\n",
       "      <td>['I', \"'m\", 'a', 'big', 'fan', 'of', 'Jimmy', ...</td>\n",
       "      <td>{'and', 'get', 'unfriendly', 'bacon', 'on', 's...</td>\n",
       "      <td>{'and', 'get', 'unfriendly', 'bacon', 'on', 's...</td>\n",
       "      <td>['get', 'unfriendly', 'bacon', 'service', 'loc...</td>\n",
       "      <td>[0, 0, 0, 0, 0, 0, 0, 0, 0, 0, 0, 0, 0, 0, 0, ...</td>\n",
       "    </tr>\n",
       "    <tr>\n",
       "      <th>3</th>\n",
       "      <td>69369</td>\n",
       "      <td>oH4iqq4kjJfXpHCgB9G1sw</td>\n",
       "      <td>0</td>\n",
       "      <td>2013-11-14 21:10:14</td>\n",
       "      <td>0</td>\n",
       "      <td>vCJS9ok_G3OfuxCtT3UNYg</td>\n",
       "      <td>4</td>\n",
       "      <td>Well Spa was surprisingly posh and I loved it!...</td>\n",
       "      <td>0</td>\n",
       "      <td>d84GXn6uhT1qyDEziAmR8Q</td>\n",
       "      <td>['Well', 'Spa', 'was', 'surprisingly', 'posh',...</td>\n",
       "      <td>{'the', 'and', 'massage', 'full', 'posh', 'lov...</td>\n",
       "      <td>{'the', 'and', 'massage', 'amenity', 'full', '...</td>\n",
       "      <td>['massage', 'amenity', 'full', 'posh', 'loved'...</td>\n",
       "      <td>[0, 0, 0, 0, 0, 0, 0, 0, 0, 0, 0, 0, 0, 0, 0, ...</td>\n",
       "    </tr>\n",
       "    <tr>\n",
       "      <th>4</th>\n",
       "      <td>93624</td>\n",
       "      <td>kPR47uxGqmQNIQkIZr2_Tg</td>\n",
       "      <td>0</td>\n",
       "      <td>2015-07-17 22:52:49</td>\n",
       "      <td>0</td>\n",
       "      <td>rMpvc3Hua7qRtDph8_pnpw</td>\n",
       "      <td>5</td>\n",
       "      <td>Wanted to try this place for a while and it di...</td>\n",
       "      <td>0</td>\n",
       "      <td>Ixaz7mLwzGQGg_W2yfBGqg</td>\n",
       "      <td>['Wanted', 'to', 'try', 'this', 'place', 'for'...</td>\n",
       "      <td>{'for', 'and', 'food', 'banana', 'a', 'orderin...</td>\n",
       "      <td>{'for', 'food', 'banana', 'and', 'dessert', 'a...</td>\n",
       "      <td>['food', 'banana', 'dessert', 'ordering', 'hel...</td>\n",
       "      <td>[0, 0, 0, 0, 0, 0, 0, 0, 0, 0, 0, 0, 0, 0, 0, ...</td>\n",
       "    </tr>\n",
       "  </tbody>\n",
       "</table>\n",
       "</div>"
      ],
      "text/plain": [
       "   Unnamed: 0             business_id  cool                 date  funny  \\\n",
       "0       29369  kPR47uxGqmQNIQkIZr2_Tg     0  2016-06-12 04:28:37      0   \n",
       "1       80459  qHQPvp6pZ75fB63kOKUPqg     0  2014-08-13 19:10:43      1   \n",
       "2       21659  vhIJ91MDgUuk4Cr9Kpj1Nw     0  2012-04-29 10:58:50      0   \n",
       "3       69369  oH4iqq4kjJfXpHCgB9G1sw     0  2013-11-14 21:10:14      0   \n",
       "4       93624  kPR47uxGqmQNIQkIZr2_Tg     0  2015-07-17 22:52:49      0   \n",
       "\n",
       "                review_id  stars  \\\n",
       "0  kJa4M0WsQaGwoMDSP0c-hw      5   \n",
       "1  8qst2v9HE8tV7B3IFvtSIA      5   \n",
       "2  DYAIyC476YkouqJgXuUv_A      4   \n",
       "3  vCJS9ok_G3OfuxCtT3UNYg      4   \n",
       "4  rMpvc3Hua7qRtDph8_pnpw      5   \n",
       "\n",
       "                                                text  useful  \\\n",
       "0  Friendly staff and generous portions of great ...       1   \n",
       "1  Job well done!! Thank you Rick for making our ...       2   \n",
       "2  I'm a big fan of Jimmy John's. This location i...       1   \n",
       "3  Well Spa was surprisingly posh and I loved it!...       0   \n",
       "4  Wanted to try this place for a while and it di...       0   \n",
       "\n",
       "                  user_id                                          text_list  \\\n",
       "0  sizanx4RIwRC3BfhQv8KOg  ['Friendly', 'staff', 'and', 'generous', 'port...   \n",
       "1  DXP3K7wG_nu9jYPzQ8xVFA  ['Job', 'well', 'done', '!', '!', 'Thank', 'yo...   \n",
       "2  OTRxfMCtfrbUemIigxCaOg  ['I', \"'m\", 'a', 'big', 'fan', 'of', 'Jimmy', ...   \n",
       "3  d84GXn6uhT1qyDEziAmR8Q  ['Well', 'Spa', 'was', 'surprisingly', 'posh',...   \n",
       "4  Ixaz7mLwzGQGg_W2yfBGqg  ['Wanted', 'to', 'try', 'this', 'place', 'for'...   \n",
       "\n",
       "                                              tokens  \\\n",
       "0  {'generous', 'staff', 'and', 'food', '!', 'u',...   \n",
       "1  {'the', 'for', 'and', 'look', 'a', 'our', '.',...   \n",
       "2  {'and', 'get', 'unfriendly', 'bacon', 'on', 's...   \n",
       "3  {'the', 'and', 'massage', 'full', 'posh', 'lov...   \n",
       "4  {'for', 'and', 'food', 'banana', 'a', 'orderin...   \n",
       "\n",
       "                                          lemmatized  \\\n",
       "0  {'generous', 'food', 'staff', '!', 'and', 'roc...   \n",
       "1  {'the', 'for', 'and', 'look', 'a', 'our', '.',...   \n",
       "2  {'and', 'get', 'unfriendly', 'bacon', 'on', 's...   \n",
       "3  {'the', 'and', 'massage', 'amenity', 'full', '...   \n",
       "4  {'for', 'food', 'banana', 'and', 'dessert', 'a...   \n",
       "\n",
       "                                           processed  \\\n",
       "0  ['generous', 'food', 'staff', 'rock', 'u', 'fr...   \n",
       "1  ['look', 'yearly', 'carpet', 'sure', 'thank', ...   \n",
       "2  ['get', 'unfriendly', 'bacon', 'service', 'loc...   \n",
       "3  ['massage', 'amenity', 'full', 'posh', 'loved'...   \n",
       "4  ['food', 'banana', 'dessert', 'ordering', 'hel...   \n",
       "\n",
       "                                          bag_vector  \n",
       "0  [0, 0, 0, 0, 0, 0, 0, 0, 0, 0, 0, 0, 0, 0, 0, ...  \n",
       "1  [0, 0, 0, 0, 0, 0, 0, 0, 0, 0, 0, 0, 0, 0, 0, ...  \n",
       "2  [0, 0, 0, 0, 0, 0, 0, 0, 0, 0, 0, 0, 0, 0, 0, ...  \n",
       "3  [0, 0, 0, 0, 0, 0, 0, 0, 0, 0, 0, 0, 0, 0, 0, ...  \n",
       "4  [0, 0, 0, 0, 0, 0, 0, 0, 0, 0, 0, 0, 0, 0, 0, ...  "
      ]
     },
     "execution_count": 1,
     "metadata": {},
     "output_type": "execute_result"
    }
   ],
   "source": [
    "import pandas as pd\n",
    "\n",
    "df_bag_of_words = pd.read_csv('bag_of_words.csv')\n",
    "df_bag_of_words.head()"
   ]
  },
  {
   "cell_type": "code",
   "execution_count": 2,
   "metadata": {},
   "outputs": [
    {
     "data": {
      "text/plain": [
       "12263"
      ]
     },
     "execution_count": 2,
     "metadata": {},
     "output_type": "execute_result"
    }
   ],
   "source": [
    "import numpy as np\n",
    "\n",
    "def to_array(s):\n",
    "    array = s.rstrip(']').lstrip('[').split(',')\n",
    "    for value in range(len(array)):\n",
    "        array[value] = int(array[value])\n",
    "    return array\n",
    "\n",
    "\n",
    "    \n",
    "\n",
    "df_bag_of_words['bag_vector'] = df_bag_of_words['bag_vector'].map(to_array)\n",
    "df_bag_of_words['bag_vector'][0]\n",
    "\n",
    "df_vocab = pd.read_csv('vocab_df.csv')\n",
    "#len(df_vocab)\n",
    "len(df_bag_of_words['bag_vector'][0])"
   ]
  },
  {
   "cell_type": "code",
   "execution_count": 3,
   "metadata": {},
   "outputs": [
    {
     "data": {
      "text/plain": [
       "0.441685404242839"
      ]
     },
     "execution_count": 3,
     "metadata": {},
     "output_type": "execute_result"
    }
   ],
   "source": [
    "df_bag_of_words['stars'].value_counts()[5]/len(df_bag_of_words)"
   ]
  },
  {
   "cell_type": "code",
   "execution_count": 3,
   "metadata": {},
   "outputs": [
    {
     "name": "stderr",
     "output_type": "stream",
     "text": [
      "C:\\Users\\Thomas\\Anaconda3\\lib\\site-packages\\sklearn\\model_selection\\_split.py:1978: FutureWarning: The default value of cv will change from 3 to 5 in version 0.22. Specify it explicitly to silence this warning.\n",
      "  warnings.warn(CV_WARNING, FutureWarning)\n",
      "[Parallel(n_jobs=-1)]: Using backend LokyBackend with 8 concurrent workers.\n"
     ]
    },
    {
     "name": "stdout",
     "output_type": "stream",
     "text": [
      "Fitting 3 folds for each of 24 candidates, totalling 72 fits\n"
     ]
    },
    {
     "name": "stderr",
     "output_type": "stream",
     "text": [
      "[Parallel(n_jobs=-1)]: Done   2 tasks      | elapsed:   34.8s\n",
      "[Parallel(n_jobs=-1)]: Done   9 tasks      | elapsed:  1.4min\n",
      "[Parallel(n_jobs=-1)]: Done  16 tasks      | elapsed:  2.5min\n",
      "[Parallel(n_jobs=-1)]: Done  25 tasks      | elapsed:  3.4min\n",
      "[Parallel(n_jobs=-1)]: Done  34 tasks      | elapsed:  4.9min\n",
      "[Parallel(n_jobs=-1)]: Done  45 tasks      | elapsed:  6.1min\n",
      "[Parallel(n_jobs=-1)]: Done  56 tasks      | elapsed:  7.5min\n",
      "[Parallel(n_jobs=-1)]: Done  65 out of  72 | elapsed:  9.3min remaining:   59.8s\n",
      "[Parallel(n_jobs=-1)]: Done  72 out of  72 | elapsed: 10.2min finished\n",
      "C:\\Users\\Thomas\\Anaconda3\\lib\\site-packages\\sklearn\\svm\\base.py:193: FutureWarning: The default value of gamma will change from 'auto' to 'scale' in version 0.22 to account better for unscaled features. Set gamma explicitly to 'auto' or 'scale' to avoid this warning.\n",
      "  \"avoid this warning.\", FutureWarning)\n"
     ]
    },
    {
     "name": "stdout",
     "output_type": "stream",
     "text": [
      "Best score: 0.533\n",
      "Best parameters set:\n",
      "\tclf__C: 50\n",
      "\tsvd__n_components: 150\n",
      "\ttfidf__max_df: 0.75\n",
      "\ttfidf__ngram_range: (1, 2)\n"
     ]
    }
   ],
   "source": [
    "from sklearn.feature_extraction.text import TfidfVectorizer\n",
    "from sklearn.decomposition import TruncatedSVD\n",
    "from sklearn import svm\n",
    "from sklearn.pipeline import Pipeline\n",
    "from sklearn.model_selection import GridSearchCV\n",
    "\n",
    "documents = list(df_bag_of_words['text'])\n",
    "y = list(df_bag_of_words['stars'])\n",
    "\n",
    "pipeline = Pipeline([\n",
    "    ('tfidf', TfidfVectorizer()),\n",
    "    ('svd', TruncatedSVD()),\n",
    "    ('clf', svm.SVR())\n",
    "])\n",
    "# You can tune hyperparameters using grid search\n",
    "params = {\n",
    "    'tfidf__max_df': (0.75, 1.0),\n",
    "    'tfidf__ngram_range': ((1,1), (1,2)),\n",
    "    'svd__n_components': (125, 150, 200),\n",
    "    'clf__C': (1, 50),\n",
    "    }\n",
    "grid_search = GridSearchCV(pipeline, params, scoring='r2',\n",
    "    n_jobs=-1, verbose=10)\n",
    "# fit your documents (Should be a list/array of strings)\n",
    "grid_search.fit(documents, y)\n",
    "\n",
    "print(\"Best score: %0.3f\" % grid_search.best_score_)\n",
    "print(\"Best parameters set:\")\n",
    "best_parameters = grid_search.best_estimator_.get_params()\n",
    "for param_name in sorted(params.keys()):\n",
    "    print(\"\\t%s: %r\" % (param_name, best_parameters[param_name]))"
   ]
  },
  {
   "cell_type": "code",
   "execution_count": 3,
   "metadata": {
    "scrolled": true
   },
   "outputs": [
    {
     "name": "stderr",
     "output_type": "stream",
     "text": [
      "C:\\Users\\Thomas\\Anaconda3\\lib\\site-packages\\sklearn\\model_selection\\_split.py:1978: FutureWarning: The default value of cv will change from 3 to 5 in version 0.22. Specify it explicitly to silence this warning.\n",
      "  warnings.warn(CV_WARNING, FutureWarning)\n",
      "[Parallel(n_jobs=-1)]: Using backend LokyBackend with 8 concurrent workers.\n"
     ]
    },
    {
     "name": "stdout",
     "output_type": "stream",
     "text": [
      "Fitting 3 folds for each of 8 candidates, totalling 24 fits\n"
     ]
    },
    {
     "name": "stderr",
     "output_type": "stream",
     "text": [
      "[Parallel(n_jobs=-1)]: Done   2 tasks      | elapsed:   18.0s\n",
      "[Parallel(n_jobs=-1)]: Done   9 tasks      | elapsed:   31.4s\n",
      "[Parallel(n_jobs=-1)]: Done  12 out of  24 | elapsed:   44.2s remaining:   44.2s\n",
      "[Parallel(n_jobs=-1)]: Done  15 out of  24 | elapsed:   50.8s remaining:   30.5s\n",
      "[Parallel(n_jobs=-1)]: Done  18 out of  24 | elapsed:  1.2min remaining:   23.2s\n",
      "[Parallel(n_jobs=-1)]: Done  21 out of  24 | elapsed:  2.8min remaining:   24.1s\n",
      "[Parallel(n_jobs=-1)]: Done  24 out of  24 | elapsed:  3.2min remaining:    0.0s\n",
      "[Parallel(n_jobs=-1)]: Done  24 out of  24 | elapsed:  3.2min finished\n"
     ]
    },
    {
     "name": "stdout",
     "output_type": "stream",
     "text": [
      "Best score: 0.612\n",
      "Best parameters set:\n",
      "\tclf__alpha: 0.0001\n",
      "\ttfidf__max_df: 1.0\n",
      "\ttfidf__ngram_range: (1, 2)\n"
     ]
    }
   ],
   "source": [
    "from sklearn.feature_extraction.text import TfidfVectorizer\n",
    "from sklearn.decomposition import TruncatedSVD\n",
    "from sklearn.linear_model import Lasso\n",
    "from sklearn.pipeline import Pipeline\n",
    "from sklearn.model_selection import GridSearchCV\n",
    "\n",
    "documents = list(df_bag_of_words['text'])\n",
    "y = list(df_bag_of_words['stars'])\n",
    "\n",
    "pipeline = Pipeline([\n",
    "    ('tfidf', TfidfVectorizer()),\n",
    "    ('clf', Lasso())\n",
    "])\n",
    "# You can tune hyperparameters using grid search\n",
    "params = {\n",
    "    'tfidf__max_df': (0.75, 1.0),\n",
    "    'tfidf__ngram_range': ((1,1),(1,2)),\n",
    "    'clf__alpha': (1e-4, 1e-2),\n",
    "    }\n",
    "grid_search = GridSearchCV(pipeline, params, scoring='r2',\n",
    "    n_jobs=-1, verbose=10)\n",
    "# fit your documents (Should be a list/array of strings)\n",
    "grid_search.fit(documents, y)\n",
    "\n",
    "print(\"Best score: %0.3f\" % grid_search.best_score_)\n",
    "print(\"Best parameters set:\")\n",
    "best_parameters = grid_search.best_estimator_.get_params()\n",
    "for param_name in sorted(params.keys()):\n",
    "    print(\"\\t%s: %r\" % (param_name, best_parameters[param_name]))"
   ]
  },
  {
   "cell_type": "code",
   "execution_count": 15,
   "metadata": {},
   "outputs": [
    {
     "data": {
      "image/png": "[encoded data removed]",
      "text/plain": [
       "<Figure size 432x288 with 1 Axes>"
      ]
     },
     "metadata": {
      "needs_background": "light"
     },
     "output_type": "display_data"
    }
   ],
   "source": [
    "import matplotlib.pyplot as plt\n",
    "optimal_lasso = grid_search.best_estimator_['clf']\n",
    "plt.plot(optimal_lasso.coef_,alpha=0.7,linestyle='none',\\\n",
    "         marker='*',markersize=5,color='red',\\\n",
    "         label=r'Lasso; $\\alpha = 1$',zorder=7) # alpha here is for transparency\n",
    "#print(grid_search.best_estimator_['clf'])\n",
    "plt.show()"
   ]
  },
  {
   "cell_type": "code",
   "execution_count": 72,
   "metadata": {},
   "outputs": [
    {
     "name": "stdout",
     "output_type": "stream",
     "text": [
      "Most important negative words\n",
      "\n",
      "                0        word\n",
      "363856 -11.973354       worst\n",
      "264055 -10.558510        rude\n",
      "90612  -10.160588  disgusting\n",
      "304984  -8.882226    terrible\n",
      "209321  -7.971978         not \n",
      "\n",
      "\n",
      "\n",
      "Most important positive words\n",
      "               0       word\n",
      "106049  4.433525  excellent\n",
      "32871   4.558423    awesome\n",
      "42467   5.631968       best\n",
      "14056   6.137832    amazing\n",
      "134767  6.253932      great\n"
     ]
    }
   ],
   "source": [
    "#Top coefficients\n",
    "col1 = optimal_lasso.coef_\n",
    "col2 = grid_search.best_estimator_['tfidf'].get_feature_names()\n",
    "coef_df = pd.DataFrame(col1)\n",
    "coef_df['word'] = col2\n",
    "df_min = coef_df.sort_values(by=0)[:5]\n",
    "df_max = coef_df.sort_values(by=0)[-5:]\n",
    "print('Most important negative words\\n')\n",
    "print(df_min,'\\n\\n\\n')\n",
    "\n",
    "\n",
    "print('Most important positive words')\n",
    "print(df_max)"
   ]
  },
  {
   "cell_type": "code",
   "execution_count": 82,
   "metadata": {},
   "outputs": [
    {
     "name": "stdout",
     "output_type": "stream",
     "text": [
      "Most important negative words\n",
      "\n",
      "               0               word  Length\n",
      "358525 -6.033638         will never       2\n",
      "210638 -5.798533          not worth       2\n",
      "342799 -5.599212  very disappointed       2\n",
      "29904  -5.161300            at best       2\n",
      "292831 -4.572006          stay away       2 \n",
      "\n",
      "\n",
      "\n",
      "Most important positive words\n",
      "               0              word  Length\n",
      "23678   3.005832     anywhere else       2\n",
      "209632  3.047126  not disappointed       2\n",
      "210515  3.396020           not too       2\n",
      "205263  3.535500         never had       2\n",
      "37592   4.091327   be disappointed       2\n"
     ]
    }
   ],
   "source": [
    "#Top bigrams\n",
    "import re\n",
    "def splitter(s):\n",
    "    return len(re.split(' ',s))\n",
    "coef_df['Length'] = coef_df['word'].map(splitter)\n",
    "bigram_df = coef_df[coef_df['Length']==2]\n",
    "bigram_min = bigram_df.sort_values(by=0)[:5]\n",
    "bigram_max = bigram_df.sort_values(by=0)[-5:]\n",
    "\n",
    "print('Most important negative words\\n')\n",
    "print(bigram_min,'\\n\\n\\n')\n",
    "\n",
    "\n",
    "print('Most important positive words')\n",
    "print(bigram_max)"
   ]
  },
  {
   "cell_type": "code",
   "execution_count": 15,
   "metadata": {},
   "outputs": [
    {
     "name": "stderr",
     "output_type": "stream",
     "text": [
      "C:\\Users\\Thomas\\Anaconda3\\lib\\site-packages\\sklearn\\model_selection\\_split.py:1978: FutureWarning: The default value of cv will change from 3 to 5 in version 0.22. Specify it explicitly to silence this warning.\n",
      "  warnings.warn(CV_WARNING, FutureWarning)\n",
      "[Parallel(n_jobs=-1)]: Using backend LokyBackend with 8 concurrent workers.\n"
     ]
    },
    {
     "name": "stdout",
     "output_type": "stream",
     "text": [
      "Fitting 3 folds for each of 8 candidates, totalling 24 fits\n"
     ]
    },
    {
     "name": "stderr",
     "output_type": "stream",
     "text": [
      "[Parallel(n_jobs=-1)]: Done   2 tasks      | elapsed:  1.1min\n",
      "[Parallel(n_jobs=-1)]: Done   9 tasks      | elapsed:  1.9min\n",
      "[Parallel(n_jobs=-1)]: Done  12 out of  24 | elapsed:  2.2min remaining:  2.2min\n",
      "[Parallel(n_jobs=-1)]: Done  15 out of  24 | elapsed:  2.5min remaining:  1.5min\n",
      "[Parallel(n_jobs=-1)]: Done  18 out of  24 | elapsed:  2.8min remaining:   55.1s\n",
      "[Parallel(n_jobs=-1)]: Done  21 out of  24 | elapsed:  3.0min remaining:   25.9s\n",
      "[Parallel(n_jobs=-1)]: Done  24 out of  24 | elapsed:  3.2min remaining:    0.0s\n",
      "[Parallel(n_jobs=-1)]: Done  24 out of  24 | elapsed:  3.2min finished\n"
     ]
    },
    {
     "name": "stdout",
     "output_type": "stream",
     "text": [
      "Best score: 0.103\n",
      "Best parameters set:\n",
      "\tclf__alpha: 0.0004\n",
      "\ttfidf__max_df: 0.75\n",
      "\ttfidf__ngram_range: (3, 3)\n"
     ]
    }
   ],
   "source": [
    "from sklearn.feature_extraction.text import TfidfVectorizer\n",
    "from sklearn.decomposition import TruncatedSVD\n",
    "from sklearn.linear_model import Lasso\n",
    "from sklearn.pipeline import Pipeline\n",
    "from sklearn.model_selection import GridSearchCV\n",
    "\n",
    "documents = list(df_bag_of_words['text'])\n",
    "y = list(df_bag_of_words['stars'])\n",
    "\n",
    "pipeline = Pipeline([\n",
    "    ('tfidf', TfidfVectorizer()),\n",
    "    ('clf', Lasso())\n",
    "])\n",
    "# You can tune hyperparameters using grid search\n",
    "params = {\n",
    "    'tfidf__max_df': (0.75, 0.8),\n",
    "    'tfidf__ngram_range': ((3,3),(3,4)),\n",
    "    'clf__alpha': (4e-4, 50),\n",
    "    }\n",
    "grid_search = GridSearchCV(pipeline, params, scoring='r2',\n",
    "    n_jobs=-1, verbose=10)\n",
    "# fit your documents (Should be a list/array of strings)\n",
    "grid_search.fit(documents, y)\n",
    "\n",
    "print(\"Best score: %0.3f\" % grid_search.best_score_)\n",
    "print(\"Best parameters set:\")\n",
    "best_parameters = grid_search.best_estimator_.get_params()\n",
    "for param_name in sorted(params.keys()):\n",
    "    print(\"\\t%s: %r\" % (param_name, best_parameters[param_name]))"
   ]
  },
  {
   "cell_type": "code",
   "execution_count": 17,
   "metadata": {},
   "outputs": [
    {
     "name": "stdout",
     "output_type": "stream",
     "text": [
      "Most important negative words\n",
      "\n",
      "                0                    word  Length\n",
      "417029 -11.183890           not worth the       3\n",
      "757133  -8.637472     would not recommend       3\n",
      "752628  -6.909234             won be back       3\n",
      "742924  -6.835240             will not be       3\n",
      "755483  -6.074772  worst customer service       3 \n",
      "\n",
      "\n",
      "\n",
      "Most important positive words\n",
      "               0                word  Length\n",
      "623353  5.838633        the staff is       3\n",
      "363271  6.595701     love this place       3\n",
      "742162  6.904190        will be back       3\n",
      "428063  7.094921         of the best       3\n",
      "742457  9.008516  will definitely be       3\n"
     ]
    }
   ],
   "source": [
    "#Top trigrams\n",
    "import re\n",
    "def splitter(s):\n",
    "    return len(re.split(' ',s))\n",
    "col1 = grid_search.best_estimator_['clf'].coef_\n",
    "col2 = grid_search.best_estimator_['tfidf'].get_feature_names()\n",
    "coef_df = pd.DataFrame(col1)\n",
    "coef_df['word'] = col2\n",
    "\n",
    "\n",
    "coef_df['Length'] = coef_df['word'].map(splitter)\n",
    "trigram_df = coef_df[coef_df['Length']==3]\n",
    "trigram_min = trigram_df.sort_values(by=0)[:5]\n",
    "trigram_max = trigram_df.sort_values(by=0)[-5:]\n",
    "\n",
    "print('Most important negative words\\n')\n",
    "print(trigram_min,'\\n\\n\\n')\n",
    "\n",
    "\n",
    "print('Most important positive words')\n",
    "print(trigram_max)\n"
   ]
  }
 ],
 "metadata": {
  "kernelspec": {
   "display_name": "Python 3",
   "language": "python",
   "name": "python3"
  },
  "language_info": {
   "codemirror_mode": {
    "name": "ipython",
    "version": 3
   },
   "file_extension": ".py",
   "mimetype": "text/x-python",
   "name": "python",
   "nbconvert_exporter": "python",
   "pygments_lexer": "ipython3",
   "version": "3.7.3"
  }
 },
 "nbformat": 4,
 "nbformat_minor": 2
}
